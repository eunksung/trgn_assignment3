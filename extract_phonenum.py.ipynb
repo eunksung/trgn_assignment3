{
 "cells": [
  {
   "cell_type": "code",
   "execution_count": 1,
   "id": "d652a405-1dc6-40fd-aa0a-1a40fcd9da51",
   "metadata": {},
   "outputs": [
    {
     "name": "stdout",
     "output_type": "stream",
     "text": [
      "Announcement of Phone Number Change\n",
      "August 11, 2016\n",
      "Please be informed that the Moniker support team has new phone numbers, as shown below. We apologize for the inconvenience, but please kindly update your records accordingly.\n",
      "New phone numbers:\n",
      "Toll free in the U.S. and Canada: 1 (844) 760-0251\n",
      "Outside the U.S. and Canada: +1 (954) 601-5759\n",
      "Our hours of operation are Monday through Friday, 8:00am to 8:00pm US Eastern Standard Time."
     ]
    }
   ],
   "source": [
    "!head phonenum_change.txt"
   ]
  },
  {
   "cell_type": "markdown",
   "id": "fa70ce7c-3cc8-4293-bc4d-f62282d4ed46",
   "metadata": {},
   "source": [
    "I print first few lines of a text file 'phonenum_change.txt' to see the contents. I can see there are telephone numbers with the text file."
   ]
  },
  {
   "cell_type": "code",
   "execution_count": 3,
   "id": "e71fe135-b84b-4c23-9a98-5a1f78a861ab",
   "metadata": {},
   "outputs": [
    {
     "name": "stdout",
     "output_type": "stream",
     "text": [
      "Overwriting extract_phonenum.py\n"
     ]
    }
   ],
   "source": [
    "%%file extract_phonenum.py\n",
    "import re\n",
    "##load regex to the script which will help to search the telephone numbers in the text file.\n",
    "f = open('phonenum_change.txt','r')\n",
    "text = f.read()\n",
    "#I used re.search first and found that it only match one but not all, so I switch to findall.\n",
    "#I tested strings with regex101 to check the range of seaching power with the expression. \n",
    "match_phonenum = re.findall(r'[\\+]?1\\s[(]?[0-9]{3}[)]?[-\\s\\.]?[0-9]{3}[-\\s\\.]?[0-9]{4}', text, re.M)\n",
    "if match_phonenum:\n",
    "    print (match_phonenum)\n",
    "else:\n",
    "    print (\"No Match\")"
   ]
  },
  {
   "cell_type": "code",
   "execution_count": 4,
   "id": "e41d1716-7236-4589-a2ee-17fa648ab4c0",
   "metadata": {},
   "outputs": [
    {
     "name": "stdout",
     "output_type": "stream",
     "text": [
      "['1 (844) 760-0251', '+1 (954) 601-5759']\n"
     ]
    }
   ],
   "source": [
    "!python3 extract_phonenum.py phonenum_change.txt"
   ]
  },
  {
   "cell_type": "code",
   "execution_count": null,
   "id": "5d64fe4e-7250-4e46-a532-acf4920973e0",
   "metadata": {},
   "outputs": [],
   "source": []
  }
 ],
 "metadata": {
  "kernelspec": {
   "display_name": "Python 3 (ipykernel)",
   "language": "python",
   "name": "python3"
  },
  "language_info": {
   "codemirror_mode": {
    "name": "ipython",
    "version": 3
   },
   "file_extension": ".py",
   "mimetype": "text/x-python",
   "name": "python",
   "nbconvert_exporter": "python",
   "pygments_lexer": "ipython3",
   "version": "3.9.12"
  }
 },
 "nbformat": 4,
 "nbformat_minor": 5
}
