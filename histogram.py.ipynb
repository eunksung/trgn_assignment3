{
 "cells": [
  {
   "cell_type": "code",
   "execution_count": 13,
   "id": "519644c1-5179-4bfc-bba4-10fb16c0b736",
   "metadata": {},
   "outputs": [
    {
     "name": "stdout",
     "output_type": "stream",
     "text": [
      "Overwriting histogram.py\n"
     ]
    }
   ],
   "source": [
    "%%file histogram.py\n",
    "\n",
    "import pandas as pd\n",
    "import matplotlib.pyplot as plt\n",
    "\n",
    "df = pd.read_csv(\"https://github.com/nytimes/covid-19-data/raw/master/us-counties.csv\")\n",
    "\n",
    "histo_plot = df['deaths'].hist(bins=200)\n",
    "histo_plot.set_title('Deaths in a day by COVID-19')\n",
    "histo_plot.set_xlabel('Deaths Number')\n",
    "histo_plot.set_ylabel('Frequency')\n",
    "\n",
    "plt.xlim([0, 1000])\n",
    "plt.ylim([0, 500000])\n",
    "plt.show()"
   ]
  },
  {
   "cell_type": "code",
   "execution_count": 14,
   "id": "2b3ee394-13e1-4677-b7bf-eff320558aef",
   "metadata": {},
   "outputs": [
    {
     "name": "stdout",
     "output_type": "stream",
     "text": [
      "Figure(640x480)\n"
     ]
    }
   ],
   "source": [
    "!python3 histogram.py"
   ]
  },
  {
   "cell_type": "code",
   "execution_count": null,
   "id": "f19aae4a-fe4c-4539-b6a1-03007715333c",
   "metadata": {},
   "outputs": [],
   "source": []
  }
 ],
 "metadata": {
  "kernelspec": {
   "display_name": "Python 3 (ipykernel)",
   "language": "python",
   "name": "python3"
  },
  "language_info": {
   "codemirror_mode": {
    "name": "ipython",
    "version": 3
   },
   "file_extension": ".py",
   "mimetype": "text/x-python",
   "name": "python",
   "nbconvert_exporter": "python",
   "pygments_lexer": "ipython3",
   "version": "3.9.12"
  }
 },
 "nbformat": 4,
 "nbformat_minor": 5
}
