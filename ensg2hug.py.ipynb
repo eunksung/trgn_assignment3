{
 "cells": [
  {
   "cell_type": "code",
   "execution_count": 1,
   "id": "c42412bc-b429-443b-8083-2a1221a3588c",
   "metadata": {},
   "outputs": [
    {
     "name": "stdout",
     "output_type": "stream",
     "text": [
      "\"\",\"gene_id\",\"gene_type\",\"logFC\",\"AveExpr\"\n",
      "\"14541\",\"ENSG00000248546.3\",\"processed_pseudogene\",0.449817926522256,0.0739725408539951\n",
      "\"14546\",\"ENSG00000201050.1\",\"snRNA\",0.380944080200912,0.169836608364135\n",
      "\"14099\",\"ENSG00000241651.4\",\"processed_pseudogene\",0.404279512682501,1.45653165012597\n",
      "\"14034\",\"ENSG00000186867.10\",\"protein_coding\",0.488619750044255,-1.74530314614119\n",
      "\"9189\",\"ENSG00000232893.1\",\"antisense\",0.332324200837872,1.16260316392312\n",
      "\"3525\",\"ENSG00000271890.1\",\"unprocessed_pseudogene\",0.320190293983216,-1.36267220821997\n",
      "\"11271\",\"ENSG00000251447.1\",\"unprocessed_pseudogene\",0.378185159596748,-1.48449477144638\n",
      "\"14945\",\"ENSG00000249966.1\",\"antisense\",0.406176118522423,-1.57088069785401\n",
      "\"9527\",\"ENSG00000144596.12\",\"protein_coding\",0.382598050407283,1.27607453866021\n"
     ]
    }
   ],
   "source": [
    "!head expression_analysis.csv"
   ]
  },
  {
   "cell_type": "code",
   "execution_count": 2,
   "id": "0c916964-401d-4135-97f9-f0348ce329a3",
   "metadata": {},
   "outputs": [
    {
     "name": "stdout",
     "output_type": "stream",
     "text": [
      "gene_id,gene_name\n",
      "ENSG00000223972,DDX11L1\n",
      "ENSG00000227232,WASH7P\n",
      "ENSG00000243485,MIR1302-10\n",
      "ENSG00000237613,FAM138A\n",
      "ENSG00000268020,OR4G4P\n",
      "ENSG00000240361,OR4G11P\n",
      "ENSG00000186092,OR4F5\n",
      "ENSG00000238009,RP11-34P13.7\n",
      "ENSG00000239945,RP11-34P13.8\n"
     ]
    }
   ],
   "source": [
    "!head mart_export_new.csv"
   ]
  },
  {
   "cell_type": "code",
   "execution_count": 1,
   "id": "bd8fa6cd-6302-45c1-b0bf-dc45772aad8b",
   "metadata": {},
   "outputs": [
    {
     "name": "stdout",
     "output_type": "stream",
     "text": [
      "Overwriting ensg2hugo.py\n"
     ]
    }
   ],
   "source": [
    "%%file ensg2hugo.py\n",
    "import sys\n",
    "import fileinput\n",
    "import re\n",
    "import pandas as pd\n",
    "\n",
    "dictionary=sys.argv[1]\n",
    "Lookup_ensemb={}\n",
    "for each_line_of_text in fileinput.input(dictionary):\n",
    "    ensgcd = re.findall(r'[\\\"]?ENSG00000[0-9]{6}[-\\s\\.]?[0-9]{1}[\\\"]?', each_line_of_text)\n",
    "    hugonm = re.findall(r'ENSG00000[0-9]{6}[-\\s\\.]?[0-9]{1},.*,', each_line_of_text)\n",
    "    if ensgcd:\n",
    "        if hugonm:\n",
    "            Lookup_ensemb[ensgcd[0]] = hugonm[0]\n",
    "\n",
    "sample = open('expression_analysis_new.csv', 'w')\n",
    "change_file=sys.argv[2]\n",
    "for each_line_of_text in fileinput.input(change_file):\n",
    "    splitcolumn_array = re.split(',',each_line_of_text.replace('\"' ,'').replace('\\n',''))\n",
    "    if splitcolumn_array[1] in Lookup_ensemb:\n",
    "        splitcolumn_array.append(Lookup_ensemb[splitcolumn_array[1]])\n",
    "        res = str(splitcolumn_array)[1:-1]\n",
    "        resmod = res.replace(\"\\'\", \"\")\n",
    "        print(resmod, file = sample)\n",
    "sample.close()\n",
    "\n",
    "import csv\n",
    "import pandas as pd\n",
    "\n",
    "with open(\"expression_analysis_new.csv\", \"r\") as source:\n",
    "    reader = csv.reader(source)\n",
    "      \n",
    "    with open(\"expression_analysis_final.csv\", \"w\") as result:\n",
    "        writer = csv.writer(result)\n",
    "        for r in reader:\n",
    "            \n",
    "            writer.writerow((r[6], r[2]))\n",
    "\n",
    "df = pd.read_csv ('expression_analysis_final.csv')\n",
    "print(df)"
   ]
  },
  {
   "cell_type": "code",
   "execution_count": 2,
   "id": "71aea737-7be3-4984-bfbc-08394f4d25f6",
   "metadata": {},
   "outputs": [],
   "source": [
    "!python3 ensg2hugo.py mart_export_new.csv expression_analysis.csv "
   ]
  }
 ],
 "metadata": {
  "kernelspec": {
   "display_name": "Python 3 (ipykernel)",
   "language": "python",
   "name": "python3"
  },
  "language_info": {
   "codemirror_mode": {
    "name": "ipython",
    "version": 3
   },
   "file_extension": ".py",
   "mimetype": "text/x-python",
   "name": "python",
   "nbconvert_exporter": "python",
   "pygments_lexer": "ipython3",
   "version": "3.9.12"
  }
 },
 "nbformat": 4,
 "nbformat_minor": 5
}
